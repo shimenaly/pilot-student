


























# 请在这里输入代码
ord('吗')


# 请在这里输入代码
chr(21527)


# 请在这里输入代码
chr(21528)


# 请在这里输入代码
c = '\u7802'
print(c)











# 请在这里输入代码
'用单引号括起来的字符串里不能直接包含单引号，但可以有‘单引号’'


# 请在这里输入代码
"用双引号括起来的字符串里不能直接包含双引号，但可以有‘单引号’"


# 请在这里输入代码
'中文的引号其实是另外的自负，总是可以包含的‘’“”'


# 请在这里输入代码
'''三个引号可以包含多行文字
就像是怎样'''


# 请在这里输入代码
'其实这行文字并没有什么特别的\n像这样插入一个换行符也是可以的'














# 请在这里输入代码
x = 62
y = 29 
print('计算完毕，获胜概率为 ' + str(x) + '%，败北概率为 ' + str(y) + '&，平局概率为 ' + str(100-x-y) + '%。')





# 请在这里输入代码
x = 62
y = 29 
print(f'计算完毕，获胜概率为{x}%,败北概率为{y}%,平局概率为{100-x-y}%。')











# 请在这里输入代码
hello = 'hello'
world = 'world'


# 请在这里输入代码
hw = hello + ' ' + world + '!'
print(hw)


# 请在这里输入代码
len(hw)





# 请在这里输入代码
hw.capitalize()


# 请在这里输入代码
hello.upper()


# 请在这里输入代码
hello.rjust(8)


# 请在这里输入代码
hello.center(9)





# 请在这里输入代码
hello.isalpha()


# 请在这里输入代码
hello.isdigit()


# 请在这里输入代码
'42'.isdigit()





# 请在这里输入代码
'Py' in 'Python'


# 请在这里输入代码
'py' in 'Python'


# 请在这里输入代码
s = 'Perform a string formatting operation. The string on which this method is called can contain literal text...'


# 请在这里输入代码
s.find('string')


# 请在这里输入代码
s.find('abracadabra')


# 请在这里输入代码
s.index('string')


# 请在这里输入代码
s.rindex('string')


# 请在这里输入代码
#s.rindex('abebasdabra')





# 请在这里输入代码
hello.replace('l','{ell}')


# 请在这里输入代码
hello.replace('l','{ell}',1)











# 请在这里输入代码
import string


# 请在这里输入代码
string.ascii_lowercase


# 请在这里输入代码
string.ascii_letters


# 请在这里输入代码
string.digits


# 请在这里输入代码
string.hexdigits


# 请在这里输入代码
string.octdigits


# 请在这里输入代码
string.punctuation


# 请在这里输入代码
string.whitespace


# 请在这里输入代码
string.printable


# 请在这里输入代码
string.ascii_uppercase






