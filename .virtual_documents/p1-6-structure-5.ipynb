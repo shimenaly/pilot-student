














# 请在这里输入代码
while True:
    try:
        x = int(input('Please enter a number: '))
        break
    except ValueError:
        print('Not a vaild number.Try angan...')
print('Your number is:',x)





# 请在这里输入代码
def this_fails():
    x = 1/0
try:
     this_fails()
except ZeroDivisionError as err:
    print('Handling run-time error:',err)









