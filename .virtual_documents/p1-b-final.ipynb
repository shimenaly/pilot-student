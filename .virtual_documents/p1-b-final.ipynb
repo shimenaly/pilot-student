


























# 请在这里输入代码
print("Hi, what is your name?")
name = input()
print(f"Hello {name}!")





# 请在这里输入代码
print('How are you today?')
feeling = input()
if 'good' in feeling:
    print("I'm feeling good too")
else:
    print('Sorry to hear that')





# 请在这里输入代码
print('How are you today?')
feeling = input()
if 'good' in feeling.lower():
    print("I'm feeling good too")
else:
    print('Sorry to hear that')





# 请在这里输入代码
import random

print("What's your favorite color?")
favcolor = input()
colors = ['red','orange','yellow','green','blue','indigo','purple']
print(f"You like {favcolor.lower()}? My favorite color is {random.choice(colors)}")

















# 请在这里输入代码
import time
class Bot:
    wait = 1
    def __init__(self):
        self.q = ''
        self.a = ''
    def _think(self, s):
        return s
    def run(self):
        time.sleep(Bot.wait)
        print(self.q)
        self.a = input()
        time.sleep(Bot.wait)
        print(self._think(self.a))





# 请在这里输入代码
class HelloBot(Bot):
    def __init__(self):
        self.q = "Hi, what is your name?"
    def _think(self,s):
        return f"Hello{s}"


# 请在这里输入代码
class GreetingBot(Bot):
    def __init__(self):
        self.q = "How are you today?"
    def _think(self,s):
        if 'good' in s.lower() or 'fine' in s.lower():
            return "I'm feeling good too"
        else:
            return "Sorry to hear that"


# 请在这里输入代码
import random
class FavoriteColorBot(Bot):
    def __init__(self):
        self.q = "What's your favortive color?"
    def _think(self,s):
        colors = ('red','orange','yellow','green','blue','purple')
        return f"You like {s.lower()}? My favortive color is {random.choice(colors)}"





# 请在这里输入代码
class Garfield:
    def __init__(self, wait=1):
        Bot.wait = wait
        self.bots = [ ]
    def add(self, bot):
        self.bots.append(bot)
    def _prompt(self, s):
        print(s)
        print()
    def run(self):
        self._prompt("This is Garfield dialog system. Let's talk.")
        for bot in self.bots:
            bot.run()
    





# 请在这里输入代码
garfield = Garfield(1)
garfield.add(HelloBot())
garfield.add(GreetingBot())
garfield.add(FavoriteColorBot())
garfield.run()














# 请在这里输入代码











# 请在这里输入代码





# 请在这里输入代码


























# 请在这里输入代码





# 请在这里输入代码


# 请在这里输入代码





# 请在这里输入代码


# 请在这里输入代码


# 请在这里输入代码





# 请在这里输入代码





# 请在这里输入代码



