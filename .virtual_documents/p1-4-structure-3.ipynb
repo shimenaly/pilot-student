

















# 请在这里输入代码
from random import randrange
n = randrange(-100, 0)
if n % 2 ==0:
    print(n, '是偶数')
else:
    print(n, '是奇数')








# 请在这里输入代码
def abs(x):
    if x >= 0 :
        return x
    else:
        return -x





# 请在这里输入代码
abs(43)


# 请在这里输入代码
abs(-3.155)





# 请在这里输入代码
def type_0(x):
    if isinstance(x, bool):
        return 'bool'
    elif isinstance(x, int):
        return 'int'
    elif isinstance(x, str):
        return 'str'
    else:
        return 'unknow'


# 请在这里输入代码
type_0(44)


# 请在这里输入代码
type_0('aswqeddfd')


# 请在这里输入代码
type_0(False)


# 请在这里输入代码
type([1,2,3])











# 请在这里输入代码
bool(48)


# 请在这里输入代码
bool(0)


# 请在这里输入代码
bool(0.4)


# 请在这里输入代码
bool('')


# 请在这里输入代码
bool('sdsdf')


# 请在这里输入代码
bool('0')


# 请在这里输入代码
bool([1,4,2])


# 请在这里输入代码
bool([])





# 请在这里输入代码
a = 42
if n != 0:
    a = a / n
a


# 请在这里输入代码
a = 42
if n:
    a = a / n
a





# 请在这里输入代码
s = input('请输入你的姓名')
if s == '':
    print('姓名不可为空，请重新输入')


# 请在这里输入代码
s = input('请输入你的姓名')
if not s :
    print('姓名不可为空，请重新输入')









